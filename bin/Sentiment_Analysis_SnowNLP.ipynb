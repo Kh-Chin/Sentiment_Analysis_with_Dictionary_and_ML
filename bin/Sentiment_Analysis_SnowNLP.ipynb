{
 "cells": [
  {
   "cell_type": "markdown",
   "id": "868e8c20",
   "metadata": {},
   "source": [
    "# 情感分析代码（SnowNLP库）"
   ]
  },
  {
   "cell_type": "code",
   "execution_count": 351,
   "id": "2328855f",
   "metadata": {
    "scrolled": true
   },
   "outputs": [],
   "source": [
    "import pandas as pd\n",
    "import matplotlib.pyplot as plt\n",
    "from snownlp import SnowNLP\n",
    "from snownlp import sentiment\n",
    "\n",
    "#导入数据集\n",
    "df = pd.read_csv(r\"C:\\Users\\steph\\OneDrive\\Desktop\\online_shopping_10_cats.csv\", encoding=\"utf-8\")"
   ]
  },
  {
   "cell_type": "code",
   "execution_count": 352,
   "id": "d7a907f0",
   "metadata": {
    "scrolled": false
   },
   "outputs": [
    {
     "name": "stdout",
     "output_type": "stream",
     "text": [
      "62774\n",
      "<class 'pandas.core.frame.DataFrame'>\n"
     ]
    }
   ],
   "source": [
    "#查看数据长度与类型\n",
    "print(len(df))\n",
    "print(type(df))"
   ]
  },
  {
   "cell_type": "code",
   "execution_count": 353,
   "id": "fba70246",
   "metadata": {},
   "outputs": [
    {
     "name": "stdout",
     "output_type": "stream",
     "text": [
      "所取得的评论：\n",
      " 0        ﻿做父母一定要有刘墉这样的心态，不断地学习，不断地进步，不断地给自己补充新鲜血液，让自己保持...\n",
      "1        作者真有英国人严谨的风格，提出观点、进行论述论证，尽管本人对物理学了解不深，但是仍然能感受到...\n",
      "2        作者长篇大论借用详细报告数据处理工作和计算结果支持其新观点。为什么荷兰曾经县有欧洲最高的生产...\n",
      "3        作者在战几时之前用了＂拥抱＂令人叫绝．日本如果没有战败，就有会有美军的占领，没胡官僚主义的延...\n",
      "4        作者在少年时即喜阅读，能看出他精读了无数经典，因而他有一个庞大的内心世界。他的作品最难能可贵...\n",
      "                               ...                        \n",
      "62769    我们去盐城的时候那里的最低气温只有4度，晚上冷得要死，居然还不开空调，投诉到酒店客房部，得到...\n",
      "62770    房间很小，整体设施老化，和四星的差距很大。毛巾太破旧了。早餐很简陋。房间隔音很差，隔两间房间...\n",
      "62771                        我感觉不行。。。性价比很差。不知道是银川都这样还是怎么的！\n",
      "62772    房间时间长，进去有点异味！服务员是不是不够用啊！我在一楼找了半个小时以上才找到自己房间，想找...\n",
      "62773    老人小孩一大家族聚会，选在吴宫泛太平洋，以为新加坡品牌一定很不错，没想到11点30分到前台，...\n",
      "Name: review, Length: 62774, dtype: object\n"
     ]
    }
   ],
   "source": [
    "#制作一个属于'review'的数据集\n",
    "df1 = df[\"review\"] \n",
    "print('所取得的评论：\\n', df1)"
   ]
  },
  {
   "cell_type": "code",
   "execution_count": 354,
   "id": "52fd499c",
   "metadata": {
    "scrolled": true
   },
   "outputs": [
    {
     "name": "stdout",
     "output_type": "stream",
     "text": [
      "62725\n"
     ]
    }
   ],
   "source": [
    "#去重数据\n",
    "df1 = pd.DataFrame(df1.unique())\n",
    "print(len(df1))"
   ]
  },
  {
   "cell_type": "code",
   "execution_count": 356,
   "id": "be612ffe",
   "metadata": {},
   "outputs": [],
   "source": [
    "#进行感情分析\n",
    "df[\"review\"] = df[\"review\"].astype(str)\n",
    "scores = df['review'].apply(lambda x: SnowNLP(x).sentiments)"
   ]
  },
  {
   "cell_type": "code",
   "execution_count": 357,
   "id": "807f6b8d",
   "metadata": {},
   "outputs": [
    {
     "data": {
      "text/plain": [
       "(array([23819.,  3313.,  2292.,  1839.,  1720.,  1658.,  1693.,  2018.,\n",
       "         3048., 21374.]),\n",
       " array([0. , 0.1, 0.2, 0.3, 0.4, 0.5, 0.6, 0.7, 0.8, 0.9, 1. ]),\n",
       " <BarContainer object of 10 artists>)"
      ]
     },
     "execution_count": 357,
     "metadata": {},
     "output_type": "execute_result"
    },
    {
     "data": {
      "image/png": "[encoded data removed]",
      "text/plain": [
       "<Figure size 432x288 with 1 Axes>"
      ]
     },
     "metadata": {
      "needs_background": "light"
     },
     "output_type": "display_data"
    }
   ],
   "source": [
    "#绘制柱状图\n",
    "import matplotlib.pyplot as plt\n",
    "plt.hist(scores)"
   ]
  },
  {
   "cell_type": "code",
   "execution_count": 358,
   "id": "2801694a",
   "metadata": {
    "scrolled": true
   },
   "outputs": [
    {
     "name": "stdout",
     "output_type": "stream",
     "text": [
      "非常好评：\n",
      "                                                       0\n",
      "0      ﻿做父母一定要有刘墉这样的心态，不断地学习，不断地进步，不断地给自己补充新鲜血液，让自己保持...\n",
      "1      作者真有英国人严谨的风格，提出观点、进行论述论证，尽管本人对物理学了解不深，但是仍然能感受到...\n",
      "2      作者长篇大论借用详细报告数据处理工作和计算结果支持其新观点。为什么荷兰曾经县有欧洲最高的生产...\n",
      "3      作者在战几时之前用了＂拥抱＂令人叫绝．日本如果没有战败，就有会有美军的占领，没胡官僚主义的延...\n",
      "4      作者在少年时即喜阅读，能看出他精读了无数经典，因而他有一个庞大的内心世界。他的作品最难能可贵...\n",
      "...                                                  ...\n",
      "62373                          非常差的酒店，只住了1天就逃走了（本来预订了7天）\n",
      "62460  标准间的卫生间居然热水都上不来，后来叫来了服务生和经理折腾了半个小时才弄好。。。 第一次住这...\n",
      "62476  本来从来不喜欢点评，就为了这家酒店，今天花半个小时时间把这趟行程的酒店都点评了！ 你们见过五...\n",
      "62641         奇葩酒店，卫生情况实在无语，我儿子一个晚上基本没着么睡，被小虫叮的身上全是包，太烂了\n",
      "62717  1、中午快一点到店，说房间没有收拾出来，只好寄存行李出去玩，晚上回到房间满屋烟味，打电话后给...\n",
      "\n",
      "[21374 rows x 1 columns]\n",
      "--------------------------------------------\n",
      "非常差评：\n",
      "                                                       0\n",
      "445    晕死，发表的评论竟然无法编辑？？？我想改几个错别字就不行吗？？？“于己，是一泄郁闷的痛苦”应...\n",
      "521    以前一直不喜欢喝水，虽然同学都说喝水对身体有好处。但我不到口渴得不行了，是不会喝水的。但看了...\n",
      "534    已经评过了，可是还要求我来评价，这是什么玩意啊？当当的一些功能特别的差劲！难道我买基本就得评...\n",
      "1405   今天才知道这书还有第6卷,真有点郁闷:为什么同一套书有两种版本呢?当当网是不是该跟出版社商量...\n",
      "2018                              再次抱歉，我的意思是的第一条评论有错别字，晕\n",
      "...                                                  ...\n",
      "62715  非常一般的酒店，房里设施很旧，房间送餐竟然要加多50%的送餐费。总之找不到好的方面来说，有其...\n",
      "62716                                   房间没窗户，携程网竟然没有说明！\n",
      "62718  酒店很旧 房间很小。入住体验非常不好。服务还可以。下面是盘门景区，这点不错。到各景区交通比较方便。\n",
      "62721  房间很小，整体设施老化，和四星的差距很大。毛巾太破旧了。早餐很简陋。房间隔音很差，隔两间房间...\n",
      "62724  老人小孩一大家族聚会，选在吴宫泛太平洋，以为新加坡品牌一定很不错，没想到11点30分到前台，...\n",
      "\n",
      "[23777 rows x 1 columns]\n"
     ]
    },
    {
     "name": "stderr",
     "output_type": "stream",
     "text": [
      "C:\\Users\\steph\\AppData\\Local\\Temp\\ipykernel_4732\\483475465.py:1: UserWarning: Boolean Series key will be reindexed to match DataFrame index.\n",
      "  positive_coms = df1[scores >= 0.9]\n",
      "C:\\Users\\steph\\AppData\\Local\\Temp\\ipykernel_4732\\483475465.py:2: UserWarning: Boolean Series key will be reindexed to match DataFrame index.\n",
      "  negative_coms = df1[scores < 0.1]\n"
     ]
    }
   ],
   "source": [
    "#分析评论（越接近0.9越积极，越接近0.1越消极）\n",
    "positive_coms = df1[scores >= 0.9]\n",
    "negative_coms = df1[scores < 0.1]\n",
    "\n",
    "print('非常好评：')\n",
    "print(positive_coms)\n",
    "print('--------------------------------------------')\n",
    "print('非常差评：')\n",
    "print(negative_coms)"
   ]
  },
  {
   "cell_type": "code",
   "execution_count": 359,
   "id": "474fb833",
   "metadata": {},
   "outputs": [],
   "source": [
    "#标数据，分别有‘好评’和‘差评’\n",
    "com_sco = []\n",
    "pos = 0\n",
    "neg = 0\n",
    "\n",
    "for i in scores:\n",
    "    if (i>=0.9):\n",
    "        com_sco.append(\"好评\")\n",
    "        pos = pos + 1\n",
    "    else :\n",
    "        com_sco.append(\"差评\")\n",
    "        neg = neg + 1"
   ]
  },
  {
   "cell_type": "code",
   "execution_count": 360,
   "id": "ddb08a96",
   "metadata": {},
   "outputs": [],
   "source": [
    "#把数据导入该列\n",
    "df['Scores'] = scores\n",
    "df['Type'] = com_sco"
   ]
  },
  {
   "cell_type": "code",
   "execution_count": 361,
   "id": "b93ffcce",
   "metadata": {},
   "outputs": [],
   "source": [
    "#存入csv\n",
    "df.to_csv(r\"C:\\Users\\steph\\OneDrive\\Desktop\\online_shopping_10_cats.csv\")"
   ]
  },
  {
   "cell_type": "code",
   "execution_count": 362,
   "id": "ce1c4774",
   "metadata": {},
   "outputs": [
    {
     "name": "stdout",
     "output_type": "stream",
     "text": [
      "好评：21374\n",
      "差评：41400\n",
      "好评率：34%\n"
     ]
    }
   ],
   "source": [
    "#计算好评率\n",
    "rate = pos/(pos + neg)\n",
    "\n",
    "print('好评：%d'% (pos))\n",
    "print('差评：%d'% (neg))\n",
    "print('好评率：%.f%%' % (rate * 100))"
   ]
  },
  {
   "cell_type": "code",
   "execution_count": 363,
   "id": "7cce23d6",
   "metadata": {},
   "outputs": [
    {
     "name": "stdout",
     "output_type": "stream",
     "text": [
      "准确率为：2.801%\n"
     ]
    }
   ],
   "source": [
    "#计算精准度\n",
    "df = pd.read_csv(r\"C:\\Users\\steph\\OneDrive\\Desktop\\online_shopping_10_cats.csv\")\n",
    "data = df[df['label'] == df['Scores']]\n",
    "print('准确率为：{:.3%}'.format(len(data)/len(df)))"
   ]
  },
  {
   "cell_type": "code",
   "execution_count": 367,
   "id": "a975811a",
   "metadata": {
    "scrolled": true
   },
   "outputs": [
    {
     "data": {
      "text/html": [
       "<div>\n",
       "<style scoped>\n",
       "    .dataframe tbody tr th:only-of-type {\n",
       "        vertical-align: middle;\n",
       "    }\n",
       "\n",
       "    .dataframe tbody tr th {\n",
       "        vertical-align: top;\n",
       "    }\n",
       "\n",
       "    .dataframe thead th {\n",
       "        text-align: right;\n",
       "    }\n",
       "</style>\n",
       "<table border=\"1\" class=\"dataframe\">\n",
       "  <thead>\n",
       "    <tr style=\"text-align: right;\">\n",
       "      <th></th>\n",
       "      <th>cat</th>\n",
       "      <th>label</th>\n",
       "      <th>review</th>\n",
       "      <th>Scores</th>\n",
       "      <th>Type</th>\n",
       "    </tr>\n",
       "  </thead>\n",
       "  <tbody>\n",
       "    <tr>\n",
       "      <th>0</th>\n",
       "      <td>书籍</td>\n",
       "      <td>1</td>\n",
       "      <td>﻿做父母一定要有刘墉这样的心态，不断地学习，不断地进步，不断地给自己补充新鲜血液，让自己保持...</td>\n",
       "      <td>1.0</td>\n",
       "      <td>1</td>\n",
       "    </tr>\n",
       "    <tr>\n",
       "      <th>1</th>\n",
       "      <td>书籍</td>\n",
       "      <td>1</td>\n",
       "      <td>作者真有英国人严谨的风格，提出观点、进行论述论证，尽管本人对物理学了解不深，但是仍然能感受到...</td>\n",
       "      <td>1.0</td>\n",
       "      <td>1</td>\n",
       "    </tr>\n",
       "    <tr>\n",
       "      <th>2</th>\n",
       "      <td>书籍</td>\n",
       "      <td>1</td>\n",
       "      <td>作者长篇大论借用详细报告数据处理工作和计算结果支持其新观点。为什么荷兰曾经县有欧洲最高的生产...</td>\n",
       "      <td>1.0</td>\n",
       "      <td>1</td>\n",
       "    </tr>\n",
       "    <tr>\n",
       "      <th>3</th>\n",
       "      <td>书籍</td>\n",
       "      <td>1</td>\n",
       "      <td>作者在战几时之前用了＂拥抱＂令人叫绝．日本如果没有战败，就有会有美军的占领，没胡官僚主义的延...</td>\n",
       "      <td>1.0</td>\n",
       "      <td>1</td>\n",
       "    </tr>\n",
       "    <tr>\n",
       "      <th>4</th>\n",
       "      <td>书籍</td>\n",
       "      <td>1</td>\n",
       "      <td>作者在少年时即喜阅读，能看出他精读了无数经典，因而他有一个庞大的内心世界。他的作品最难能可贵...</td>\n",
       "      <td>1.0</td>\n",
       "      <td>1</td>\n",
       "    </tr>\n",
       "  </tbody>\n",
       "</table>\n",
       "</div>"
      ],
      "text/plain": [
       "  cat  label                                             review  Scores  Type\n",
       "0  书籍      1  ﻿做父母一定要有刘墉这样的心态，不断地学习，不断地进步，不断地给自己补充新鲜血液，让自己保持...     1.0     1\n",
       "1  书籍      1  作者真有英国人严谨的风格，提出观点、进行论述论证，尽管本人对物理学了解不深，但是仍然能感受到...     1.0     1\n",
       "2  书籍      1  作者长篇大论借用详细报告数据处理工作和计算结果支持其新观点。为什么荷兰曾经县有欧洲最高的生产...     1.0     1\n",
       "3  书籍      1  作者在战几时之前用了＂拥抱＂令人叫绝．日本如果没有战败，就有会有美军的占领，没胡官僚主义的延...     1.0     1\n",
       "4  书籍      1  作者在少年时即喜阅读，能看出他精读了无数经典，因而他有一个庞大的内心世界。他的作品最难能可贵...     1.0     1"
      ]
     },
     "execution_count": 367,
     "metadata": {},
     "output_type": "execute_result"
    }
   ],
   "source": [
    "#替换‘好评’和‘差评’\n",
    "df2 = df.iloc[:,4:9]\n",
    "df2.iloc[:,-1].replace(['好评','差评'],[1,0],inplace=True)\n",
    "df2.head()"
   ]
  },
  {
   "cell_type": "code",
   "execution_count": 368,
   "id": "cae9aaf1",
   "metadata": {},
   "outputs": [
    {
     "name": "stdout",
     "output_type": "stream",
     "text": [
      "准确率为：79.679%\n"
     ]
    }
   ],
   "source": [
    "#计算精准度\n",
    "data = df2[df2['label'] == df2['Type']]\n",
    "print('准确率为：{:.3%}'.format(len(data)/len(df)))"
   ]
  }
 ],
 "metadata": {
  "kernelspec": {
   "display_name": "Python 3 (ipykernel)",
   "language": "python",
   "name": "python3"
  },
  "language_info": {
   "codemirror_mode": {
    "name": "ipython",
    "version": 3
   },
   "file_extension": ".py",
   "mimetype": "text/x-python",
   "name": "python",
   "nbconvert_exporter": "python",
   "pygments_lexer": "ipython3",
   "version": "3.10.2"
  }
 },
 "nbformat": 4,
 "nbformat_minor": 5
}
